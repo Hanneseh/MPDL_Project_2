{
 "cells": [
  {
   "cell_type": "code",
   "execution_count": null,
   "metadata": {},
   "outputs": [],
   "source": [
    "from torch.utils.data import DataLoader\n",
    "from create_dataset import data\n",
    "from training import train_model, val_epoch\n",
    "from nix import NIX\n",
    "import torch"
   ]
  },
  {
   "cell_type": "code",
   "execution_count": null,
   "metadata": {},
   "outputs": [],
   "source": [
    "# Set device\n",
    "device = \"cpu\"\n",
    "if torch.backends.mps.is_available():\n",
    "    device = \"mps\"\n",
    "elif torch.cuda_is_available():\n",
    "    device = \"cuda\"\n",
    "\n",
    "device = torch.device(device)\n",
    "\n",
    "#Set Paths\n",
    "PATH_TRAIN = \"/Users/pauladler/MPDL_Project_2/data/train\"\n",
    "PATH_VAL = \"/Users/pauladler/MPDL_Project_2/data/val\"\n",
    "PATH_TEST = \"/Users/pauladler/MPDL_Project_2/data/test\"\n",
    "PATH_SAVE = 'nix.pth'\n",
    "\n",
    "#Set Parameters for creating the Dataset\n",
    "num_workers = 4\n",
    "batch_size = 8\n",
    "\n",
    "# Set Parameters for model\n",
    "img_width, img_height = 512, 512\n",
    "\n",
    "# Set hyperparameters for training\n",
    "learning_rate = 0.0001"
   ]
  },
  {
   "cell_type": "code",
   "execution_count": null,
   "metadata": {},
   "outputs": [],
   "source": [
    "train_data = data(PATH_TRAIN)\n",
    "val_data = data(PATH_VAL)\n",
    "\n",
    "train_dataloader = DataLoader(train_data, batch_size=batch_size, num_workers=num_workers, shuffle=True)\n",
    "val_dataloader = DataLoader(val_data, batch_size=batch_size, num_workers=num_workers, shuffle=True)"
   ]
  },
  {
   "cell_type": "code",
   "execution_count": null,
   "metadata": {},
   "outputs": [],
   "source": [
    "model = NIX(img_width, img_height)\n",
    "model = model.to(device)"
   ]
  },
  {
   "cell_type": "code",
   "execution_count": null,
   "metadata": {},
   "outputs": [],
   "source": [
    "model = train_model(model, train_dataloader, val_dataloader, learning_rate, device)"
   ]
  },
  {
   "cell_type": "code",
   "execution_count": null,
   "metadata": {},
   "outputs": [],
   "source": [
    "torch.save(model.state_dict(), PATH_SAVE)"
   ]
  },
  {
   "cell_type": "code",
   "execution_count": null,
   "metadata": {},
   "outputs": [],
   "source": [
    "test_data = data(PATH_TEST)\n",
    "\n",
    "test_data = DataLoader(test_data, batch_size=batch_size, num_workers=num_workers, shuffle=True)"
   ]
  },
  {
   "cell_type": "code",
   "execution_count": null,
   "metadata": {},
   "outputs": [],
   "source": [
    "test_loss = val_epoch(model, test_data, device)\n",
    "print(\"[INFO] Val loss: {:.6f}\".format(test_loss))"
   ]
  }
 ],
 "metadata": {
  "kernelspec": {
   "display_name": ".venv",
   "language": "python",
   "name": "python3"
  },
  "language_info": {
   "codemirror_mode": {
    "name": "ipython",
    "version": 3
   },
   "file_extension": ".py",
   "mimetype": "text/x-python",
   "name": "python",
   "nbconvert_exporter": "python",
   "pygments_lexer": "ipython3",
   "version": "3.9.6"
  },
  "orig_nbformat": 4
 },
 "nbformat": 4,
 "nbformat_minor": 2
}
