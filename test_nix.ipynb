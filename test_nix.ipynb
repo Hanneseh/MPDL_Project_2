{
 "cells": [
  {
   "cell_type": "code",
   "execution_count": null,
   "metadata": {},
   "outputs": [],
   "source": [
    "from sklearn.metrics import jaccard_score\n",
    "from torch import no_grad, sigmoid, load, float32\n",
    "from torchvision.ops.focal_loss import sigmoid_focal_loss\n",
    "from torch.utils.data import DataLoader\n",
    "from nix import NIX\n",
    "from dataset import ImageDataset, collate_fn\n",
    "from tqdm import tqdm\n",
    "import torch\n",
    "import matplotlib.pyplot as plt\n",
    "import numpy as np"
   ]
  },
  {
   "cell_type": "code",
   "execution_count": null,
   "metadata": {},
   "outputs": [],
   "source": [
    "def load_model(path, device):\n",
    "    model = NIX(512, 512)\n",
    "    model.load_state_dict(load(path, map_location=device))\n",
    "    model = model.to(device)\n",
    "    model.eval()\n",
    "    return model\n",
    "\n",
    "\n",
    "def val(model, dataloader, device):\n",
    "    totalvalloss = 0\n",
    "    total_iou = 0\n",
    "    with no_grad():\n",
    "        for x, r, y in tqdm(dataloader):\n",
    "            x, r, y = x.to(device, dtype=float32), r.to(device, dtype=float32), y.to(device, dtype=float32)\n",
    "            output = model(x, r)\n",
    "            print(output)\n",
    "            totalvalloss += sigmoid_focal_loss(output, y, reduction=\"mean\").item()\n",
    "            pred = (output > 0.5).int()\n",
    "            y = (y > 0.5).int()\n",
    "            total_iou += jaccard_score(y.flatten().cpu().numpy(), pred.flatten().cpu().numpy())\n",
    "    totalvalloss = totalvalloss/len(dataloader)\n",
    "    total_iou = total_iou / len(dataloader)\n",
    "    print('Val Loss: %.3f | IoU: %.3f' % (totalvalloss, total_iou))\n",
    "    return totalvalloss, total_iou\n",
    "\n",
    "# Set device\n",
    "device = \"cpu\"\n",
    "if torch.backends.mps.is_available():\n",
    "    device = \"mps\"\n",
    "elif torch.cuda_is_available():\n",
    "    device = \"cuda\"\n",
    "\n",
    "device = torch.device(device)"
   ]
  },
  {
   "cell_type": "code",
   "execution_count": null,
   "metadata": {},
   "outputs": [],
   "source": [
    "PATH_TEST = \"/Users/pauladler/MPDL_Project_2/data/test\"\n",
    "PATH_MODEL = \"/Users/pauladler/MPDL_Project_2/models/nix_1706.pth\""
   ]
  },
  {
   "cell_type": "code",
   "execution_count": null,
   "metadata": {},
   "outputs": [],
   "source": [
    "test_data = ImageDataset(PATH_TEST)\n",
    "test_dataloader = DataLoader(test_data, batch_size=1, num_workers=0, shuffle=False, collate_fn=collate_fn)"
   ]
  },
  {
   "cell_type": "code",
   "execution_count": null,
   "metadata": {},
   "outputs": [],
   "source": [
    "nix = load_model(PATH_MODEL, device)\n",
    "val(nix, test_dataloader, device)"
   ]
  },
  {
   "cell_type": "code",
   "execution_count": null,
   "metadata": {},
   "outputs": [],
   "source": [
    "test_dataloader = DataLoader(test_data, batch_size=1, num_workers=0, shuffle=True)\n",
    "\n",
    "for i in range(0, 25):\n",
    "    x, r, y = next(iter(test_dataloader))\n",
    "    x, r, y = x.to(device, dtype=float32), r.to(device, dtype=float32), y.to(device, dtype=float32)\n",
    "    with no_grad():\n",
    "        pred = nix(x, r)\n",
    "\n",
    "    x = np.squeeze(x.detach().cpu().numpy())\n",
    "    x = np.einsum('jkl->klj', x)\n",
    "\n",
    "    y = np.squeeze(y.detach().cpu().numpy())\n",
    "\n",
    "    pred = (pred > 0.5).int()\n",
    "    pred = np.squeeze(pred.detach().cpu().numpy())\n",
    "\n",
    "    fig, axes = plt.subplots(1, 3, figsize=(20, 20))\n",
    "    axes[0].imshow(x)\n",
    "    axes[0].set_title('Image')\n",
    "    axes[1].imshow(y)\n",
    "    axes[1].set_title('Mask')\n",
    "    axes[2].imshow(pred)\n",
    "    axes[2].set_title('Prediction')\n",
    "    fig.tight_layout()"
   ]
  }
 ],
 "metadata": {
  "kernelspec": {
   "display_name": ".venv",
   "language": "python",
   "name": "python3"
  },
  "language_info": {
   "codemirror_mode": {
    "name": "ipython",
    "version": 3
   },
   "file_extension": ".py",
   "mimetype": "text/x-python",
   "name": "python",
   "nbconvert_exporter": "python",
   "pygments_lexer": "ipython3",
   "version": "3.9.6"
  },
  "orig_nbformat": 4
 },
 "nbformat": 4,
 "nbformat_minor": 2
}
