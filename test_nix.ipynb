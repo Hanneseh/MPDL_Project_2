{
 "cells": [
  {
   "cell_type": "markdown",
   "metadata": {},
   "source": [
    "**Jupyter enviornment to test the NIX-Nets**<br>\n",
    "Modify the script to suit your dataset and model requirements. To employ an alternative model, import the appropriate nix model with the correct set of parameters. Additionally, make sure to update the model's file path.\n",
    "\n",
    "The second dataset, Dataset 2 with 'realfake' is preset. To utilize 'fakefake', you need to replace \"realfake\" with \"fakefake\" in the call to CombinedDataset. For Dataset 1 or the inpainting dataset, invoke ImageDataset with the relevant data path and chosen method. (For reference, these datasets are also used in various NIX-Net training instances.)"
   ]
  },
  {
   "cell_type": "code",
   "execution_count": null,
   "metadata": {},
   "outputs": [],
   "source": [
    "from sklearn.metrics import jaccard_score\n",
    "from torch import no_grad, sigmoid, load, float32\n",
    "from torchvision.ops.focal_loss import sigmoid_focal_loss\n",
    "from torch.utils.data import DataLoader\n",
    "from model_definitions.nix_85 import NIX #Import other NIX-Net here\n",
    "from dataset import ImageDataset, collate_fn, CombinedDataset\n",
    "from tqdm import tqdm\n",
    "from torch import sigmoid\n",
    "import torch\n",
    "import matplotlib.pyplot as plt\n",
    "import numpy as np"
   ]
  },
  {
   "cell_type": "code",
   "execution_count": null,
   "metadata": {},
   "outputs": [],
   "source": [
    "def load_model(path, device):\n",
    "    model = NIX(512, 512)\n",
    "    model.load_state_dict(load(path, map_location=device))\n",
    "    model = model.to(device)\n",
    "    model.eval()\n",
    "    return model\n",
    "\n",
    "\n",
    "def val(model, dataloader, device):\n",
    "    totalvalloss = 0\n",
    "    total_iou = 0\n",
    "    with no_grad():\n",
    "        for x, r, y in tqdm(dataloader):\n",
    "            x, r, y = x.to(device, dtype=float32), r.to(device, dtype=float32), y.to(device, dtype=float32)\n",
    "            output = model(x, r)\n",
    "            totalvalloss += sigmoid_focal_loss(output, y, reduction=\"mean\").item()\n",
    "            pred = (sigmoid(output) > 0.5).int()\n",
    "            y = (sigmoid(y) > 0.5).int()\n",
    "            total_iou += jaccard_score(y.flatten().cpu().numpy(), pred.flatten().cpu().numpy())\n",
    "    totalvalloss = totalvalloss/len(dataloader)\n",
    "    total_iou = total_iou / len(dataloader)\n",
    "    print('Val Loss: %.3f | IoU: %.3f' % (totalvalloss, total_iou))\n",
    "    return totalvalloss, total_iou\n",
    "\n",
    "\n",
    "device = \"cuda:0\"\n",
    "device = torch.device(device)"
   ]
  },
  {
   "cell_type": "code",
   "execution_count": null,
   "metadata": {},
   "outputs": [],
   "source": [
    "#Paths for data and model\n",
    "\n",
    "PATH_TEST1 = \"/home/adlerpqt/data/test\"\n",
    "PATH_TEST2 = \"/home/guenthhx/MPDL2/data/test\"\n",
    "PATH_MODEL = \"/home/adlerpqt/MPDL_Project_2/models/dataset_2/nix_85_large_dataset_realfake/nix_85_0807_large_dataset_realfake.pth\""
   ]
  },
  {
   "cell_type": "code",
   "execution_count": null,
   "metadata": {},
   "outputs": [],
   "source": [
    "#Change here for using another dataset\n",
    "\n",
    "test_data = CombinedDataset(PATH_TEST1, PATH_TEST2, \"realfake\")\n",
    "test_dataloader = DataLoader(test_data, batch_size=8, num_workers=4, shuffle=False, collate_fn=collate_fn)"
   ]
  },
  {
   "cell_type": "code",
   "execution_count": null,
   "metadata": {},
   "outputs": [],
   "source": [
    "nix = load_model(PATH_MODEL, device)\n",
    "val(nix, test_dataloader, device)"
   ]
  },
  {
   "cell_type": "code",
   "execution_count": null,
   "metadata": {},
   "outputs": [],
   "source": [
    "test_dataloader = DataLoader(test_data, batch_size=1, num_workers=0, shuffle=True, collate_fn=collate_fn)\n",
    "\n",
    "for i in range(0, 25):\n",
    "    x, r, y = next(iter(test_dataloader))\n",
    "    x, r, y = x.to(device, dtype=float32), r.to(device, dtype=float32), y.to(device, dtype=float32)\n",
    "    with no_grad():\n",
    "        pred = nix(x, r)\n",
    "\n",
    "    x = np.squeeze(x.detach().cpu().numpy())\n",
    "    x = np.einsum('jkl->klj', x)\n",
    "\n",
    "    y = np.squeeze(y.detach().cpu().numpy())\n",
    "\n",
    "    pred = (sigmoid(pred) > 0.5).int()\n",
    "    pred = np.squeeze(pred.detach().cpu().numpy())\n",
    "\n",
    "    fig, axes = plt.subplots(1, 3, figsize=(20, 20))\n",
    "    axes[0].imshow(x)\n",
    "    axes[0].set_title('Image')\n",
    "    axes[1].imshow(y)\n",
    "    axes[1].set_title('Mask')\n",
    "    axes[2].imshow(pred)\n",
    "    axes[2].set_title('Prediction')\n",
    "    fig.tight_layout()"
   ]
  }
 ],
 "metadata": {
  "kernelspec": {
   "display_name": ".venv",
   "language": "python",
   "name": "python3"
  },
  "language_info": {
   "codemirror_mode": {
    "name": "ipython",
    "version": 3
   },
   "file_extension": ".py",
   "mimetype": "text/x-python",
   "name": "python",
   "nbconvert_exporter": "python",
   "pygments_lexer": "ipython3",
   "version": "3.8.16"
  },
  "orig_nbformat": 4
 },
 "nbformat": 4,
 "nbformat_minor": 2
}
