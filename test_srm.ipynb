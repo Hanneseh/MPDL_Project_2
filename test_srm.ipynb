{
 "cells": [
  {
   "cell_type": "code",
   "execution_count": null,
   "metadata": {},
   "outputs": [],
   "source": [
    "import matplotlib.pyplot as plt\n",
    "import numpy as np\n",
    "from torch.utils.data import DataLoader\n",
    "from dataset import ImageDataset, collate_fn"
   ]
  },
  {
   "cell_type": "code",
   "execution_count": null,
   "metadata": {},
   "outputs": [],
   "source": [
    "device = \"cpu\"\n",
    "#Set Paths\n",
    "PATH_TRAIN = \"/Users/pauladler/MPDL_Project_2/data/train\""
   ]
  },
  {
   "cell_type": "code",
   "execution_count": null,
   "metadata": {},
   "outputs": [],
   "source": [
    "train_data = ImageDataset(PATH_TRAIN)\n",
    "train_dataloader = DataLoader(train_data, batch_size=1, shuffle=True, collate_fn=collate_fn)"
   ]
  },
  {
   "cell_type": "code",
   "execution_count": null,
   "metadata": {},
   "outputs": [],
   "source": [
    "for i in range(0, 15):\n",
    "    x, r, y = next(iter(train_dataloader))\n",
    "    \n",
    "    x = np.squeeze(x.detach().cpu().numpy())\n",
    "    x = np.einsum('jkl->klj', x)\n",
    "\n",
    "    y = np.squeeze(y.detach().cpu().numpy())\n",
    "\n",
    "\n",
    "    r = np.squeeze(r)\n",
    "    r = np.einsum('jkl->klj', r)\n",
    "    min_value = np.min(r)\n",
    "    max_value = np.max(r)\n",
    "    r = (r - min_value) / (max_value - min_value)\n",
    "\n",
    "    fig, axes = plt.subplots(1, 3, figsize=(20, 20))\n",
    "    axes[0].imshow(x)\n",
    "    axes[0].set_title('Image')\n",
    "    axes[1].imshow(r)\n",
    "    axes[1].set_title('Noise')\n",
    "    axes[2].imshow(y)\n",
    "    axes[2].set_title('Mask')\n",
    "    fig.tight_layout()\n",
    "plt.show()\n"
   ]
  }
 ],
 "metadata": {
  "kernelspec": {
   "display_name": ".venv",
   "language": "python",
   "name": "python3"
  },
  "language_info": {
   "codemirror_mode": {
    "name": "ipython",
    "version": 3
   },
   "file_extension": ".py",
   "mimetype": "text/x-python",
   "name": "python",
   "nbconvert_exporter": "python",
   "pygments_lexer": "ipython3",
   "version": "3.9.6"
  },
  "orig_nbformat": 4
 },
 "nbformat": 4,
 "nbformat_minor": 2
}
